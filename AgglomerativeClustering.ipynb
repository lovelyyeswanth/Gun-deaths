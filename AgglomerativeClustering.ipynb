{
 "cells": [
  {
   "cell_type": "code",
   "execution_count": 3,
   "id": "e76270d3",
   "metadata": {},
   "outputs": [
    {
     "name": "stdout",
     "output_type": "stream",
     "text": [
      "Agglomerative Clustering\n",
      "Silhouette score: 0.3960995597964092\n",
      "Calinski-Harabasz score: 21419.78083405752\n",
      "Davies-Bouldin score: 0.8032141666397277\n"
     ]
    }
   ],
   "source": [
    "import pandas as pd\n",
    "from sklearn.cluster import AgglomerativeClustering\n",
    "from sklearn.metrics import silhouette_score, calinski_harabasz_score, davies_bouldin_score\n",
    "from sklearn.preprocessing import LabelEncoder\n",
    "\n",
    "# Load a portion of the dataset (adjust the fraction as needed)\n",
    "df = pd.read_csv(\"gun_deaths.csv\").sample(frac=0.1, random_state=42)\n",
    "\n",
    "# Preprocess the sampled dataset\n",
    "df = df.dropna()\n",
    "\n",
    "# Encode categorical features\n",
    "label_encoder = LabelEncoder()\n",
    "df[\"sex\"] = label_encoder.fit_transform(df[\"sex\"])\n",
    "df[\"race\"] = label_encoder.fit_transform(df[\"race\"])\n",
    "df[\"place\"] = label_encoder.fit_transform(df[\"place\"])\n",
    "df[\"education\"] = label_encoder.fit_transform(df[\"education\"])\n",
    "\n",
    "# Select relevant features for clustering\n",
    "features_for_clustering = [\"year\", \"month\", \"sex\", \"age\", \"race\", \"place\", \"education\"]\n",
    "\n",
    "X = df[features_for_clustering]\n",
    "\n",
    "# Perform Agglomerative Clustering\n",
    "agg = AgglomerativeClustering(n_clusters=4)\n",
    "agg_labels = agg.fit_predict(X)\n",
    "\n",
    "# Evaluate clustering\n",
    "agg_sil = silhouette_score(X, agg_labels)\n",
    "agg_ch = calinski_harabasz_score(X, agg_labels)\n",
    "agg_db = davies_bouldin_score(X, agg_labels)\n",
    "\n",
    "print(\"Agglomerative Clustering\")\n",
    "print(\"Silhouette score:\", agg_sil)\n",
    "print(\"Calinski-Harabasz score:\", agg_ch)\n",
    "print(\"Davies-Bouldin score:\", agg_db)\n"
   ]
  }
 ],
 "metadata": {
  "kernelspec": {
   "display_name": "Python 3 (ipykernel)",
   "language": "python",
   "name": "python3"
  },
  "language_info": {
   "codemirror_mode": {
    "name": "ipython",
    "version": 3
   },
   "file_extension": ".py",
   "mimetype": "text/x-python",
   "name": "python",
   "nbconvert_exporter": "python",
   "pygments_lexer": "ipython3",
   "version": "3.9.12"
  }
 },
 "nbformat": 4,
 "nbformat_minor": 5
}
