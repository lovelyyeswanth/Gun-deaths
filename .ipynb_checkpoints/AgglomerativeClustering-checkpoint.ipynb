{
 "cells": [
  {
   "cell_type": "code",
   "execution_count": 2,
   "id": "d9696a2e",
   "metadata": {},
   "outputs": [
    {
     "name": "stderr",
     "output_type": "stream",
     "text": [
      "C:\\Users\\91905\\anaconda3\\lib\\site-packages\\sklearn\\cluster\\_kmeans.py:1043: UserWarning: MiniBatchKMeans is known to have a memory leak on Windows with MKL, when there are less chunks than available threads. You can prevent it by setting batch_size >= 2048 or by setting the environment variable OMP_NUM_THREADS=4\n",
      "  warnings.warn(\n"
     ]
    },
    {
     "name": "stdout",
     "output_type": "stream",
     "text": [
      "MiniBatchKMeans\n",
      "Silhouette score: 0.4276634442302008\n",
      "Calinski-Harabasz score: 229523.95841303852\n",
      "Davies-Bouldin score: 0.7415881631381896\n"
     ]
    }
   ],
   "source": [
    "import pandas as pd\n",
    "from sklearn.cluster import MiniBatchKMeans\n",
    "from sklearn.metrics import silhouette_score, calinski_harabasz_score, davies_bouldin_score\n",
    "from sklearn.preprocessing import LabelEncoder\n",
    "\n",
    "# Load the dataset\n",
    "df = pd.read_csv(\"gun_deaths.csv\")\n",
    "\n",
    "# Preprocess the dataset\n",
    "df = df.dropna()\n",
    "\n",
    "# Encode categorical features\n",
    "label_encoder = LabelEncoder()\n",
    "df[\"sex\"] = label_encoder.fit_transform(df[\"sex\"])\n",
    "df[\"race\"] = label_encoder.fit_transform(df[\"race\"])\n",
    "df[\"place\"] = label_encoder.fit_transform(df[\"place\"])\n",
    "df[\"education\"] = label_encoder.fit_transform(df[\"education\"])\n",
    "\n",
    "# Select relevant features for clustering\n",
    "features_for_clustering = [\"year\", \"month\", \"sex\", \"age\", \"race\", \"place\", \"education\"]\n",
    "\n",
    "X = df[features_for_clustering]\n",
    "\n",
    "# Perform MiniBatchKMeans clustering\n",
    "kmeans = MiniBatchKMeans(n_clusters=4)\n",
    "kmeans_labels = kmeans.fit_predict(X)\n",
    "\n",
    "# Evaluate clustering\n",
    "kmeans_sil = silhouette_score(X, kmeans_labels)\n",
    "kmeans_ch = calinski_harabasz_score(X, kmeans_labels)\n",
    "kmeans_db = davies_bouldin_score(X, kmeans_labels)\n",
    "\n",
    "print(\"MiniBatchKMeans\")\n",
    "print(\"Silhouette score:\", kmeans_sil)\n",
    "print(\"Calinski-Harabasz score:\", kmeans_ch)\n",
    "print(\"Davies-Bouldin score:\", kmeans_db)\n"
   ]
  }
 ],
 "metadata": {
  "kernelspec": {
   "display_name": "Python 3 (ipykernel)",
   "language": "python",
   "name": "python3"
  },
  "language_info": {
   "codemirror_mode": {
    "name": "ipython",
    "version": 3
   },
   "file_extension": ".py",
   "mimetype": "text/x-python",
   "name": "python",
   "nbconvert_exporter": "python",
   "pygments_lexer": "ipython3",
   "version": "3.11.5"
  }
 },
 "nbformat": 4,
 "nbformat_minor": 5
}
